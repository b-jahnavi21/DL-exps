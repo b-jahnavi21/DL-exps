{
  "cells": [
    {
      "cell_type": "markdown",
      "metadata": {
        "id": "view-in-github",
        "colab_type": "text"
      },
      "source": [
        "<a href=\"https://colab.research.google.com/github/b-jahnavi21/DL-exps/blob/exps/VGGNet.ipynb\" target=\"_parent\"><img src=\"https://colab.research.google.com/assets/colab-badge.svg\" alt=\"Open In Colab\"/></a>"
      ]
    },
    {
      "cell_type": "code",
      "execution_count": null,
      "metadata": {
        "id": "Fcpb-J9eddxl"
      },
      "outputs": [],
      "source": [
        "import tensorflow.keras.datasets as datasets\n",
        "import tensorflow.keras.models as models\n",
        "import tensorflow.keras.layers as layers\n",
        "from tensorflow.keras.callbacks import TensorBoard\n",
        "from tensorflow.keras.utils import to_categorical\n",
        "import tensorflow.keras.optimizers\n",
        "import numpy as np\n",
        "import pandas as pd"
      ]
    },
    {
      "cell_type": "code",
      "execution_count": null,
      "metadata": {
        "id": "7lKiE29AeGaG"
      },
      "outputs": [],
      "source": [
        "(x_train,y_train),(x_test,y_test)=datasets.cifar10.load_data()"
      ]
    },
    {
      "cell_type": "code",
      "execution_count": null,
      "metadata": {
        "colab": {
          "base_uri": "https://localhost:8080/"
        },
        "id": "Sgc0WphGeHCp",
        "outputId": "6a58807f-1b2b-4ab2-8d9b-673814bd238e"
      },
      "outputs": [
        {
          "output_type": "execute_result",
          "data": {
            "text/plain": [
              "10"
            ]
          },
          "metadata": {},
          "execution_count": 3
        }
      ],
      "source": [
        "numlabels=len(np.unique(y_train))\n",
        "numlabels"
      ]
    },
    {
      "cell_type": "code",
      "execution_count": null,
      "metadata": {
        "colab": {
          "base_uri": "https://localhost:8080/"
        },
        "id": "xjsP3hQLeI3A",
        "outputId": "412a1709-9a63-42c6-ae73-483ee71e83d3"
      },
      "outputs": [
        {
          "output_type": "execute_result",
          "data": {
            "text/plain": [
              "32"
            ]
          },
          "metadata": {},
          "execution_count": 4
        }
      ],
      "source": [
        "image_size=x_train.shape[1]\n",
        "image_size"
      ]
    },
    {
      "cell_type": "code",
      "execution_count": null,
      "metadata": {
        "id": "3hOmLNVXeKrO"
      },
      "outputs": [],
      "source": [
        "x_train=x_train.astype('float32')/255.0\n",
        "x_test=x_test.astype('float32')/255.0"
      ]
    },
    {
      "cell_type": "code",
      "execution_count": null,
      "metadata": {
        "id": "M6EgaH1PeMWx"
      },
      "outputs": [],
      "source": [
        "y_train=to_categorical(y_train)\n",
        "y_test=to_categorical(y_test)"
      ]
    },
    {
      "cell_type": "code",
      "execution_count": null,
      "metadata": {
        "id": "dHwF2CUKeOMP"
      },
      "outputs": [],
      "source": [
        "BATCH_SIZE=128\n",
        "EPOCHS=20\n",
        "CLASSES=10\n",
        "VERBOSE=1\n",
        "VALIDATION_SPLIT=0.2\n",
        "optim=tensorflow.keras.optimizers.Adagrad(learning_rate=0.01)"
      ]
    },
    {
      "cell_type": "code",
      "execution_count": null,
      "metadata": {
        "id": "zLWhQ64seQwn"
      },
      "outputs": [],
      "source": [
        "def VGGNet(input_shape=x_train.shape[1:],classes=10):\n",
        "  model=models.Sequential()\n",
        "\n",
        "  model.add(layers.ZeroPadding2D((1,1),input_shape=(32,32,3)))\n",
        "  model.add(layers.Convolution2D(64,(3,3),activation='relu'))\n",
        "  model.add(layers.ZeroPadding2D((1,1)))\n",
        "  model.add(layers.Convolution2D(64,(3,3),activation='relu'))\n",
        "  model.add(layers.MaxPooling2D(pool_size=(2,2),strides=(2,2)))\n",
        "\n",
        "  model.add(layers.ZeroPadding2D((1,1)))\n",
        "  model.add(layers.Convolution2D(128,(3,3),activation='relu'))\n",
        "  model.add(layers.ZeroPadding2D((1,1)))\n",
        "  model.add(layers.Convolution2D(128,(3,3),activation='relu'))\n",
        "  model.add(layers.MaxPooling2D(pool_size=(2,2),strides=(2,2)))\n",
        "\n",
        "  model.add(layers.ZeroPadding2D((1,1)))\n",
        "  model.add(layers.Convolution2D(256,(3,3),activation='relu'))\n",
        "  model.add(layers.ZeroPadding2D((1,1)))\n",
        "  model.add(layers.Convolution2D(256,(3,3),activation='relu'))\n",
        "  model.add(layers.ZeroPadding2D((1,1)))\n",
        "  model.add(layers.Convolution2D(256,(3,3),activation='relu'))\n",
        "  model.add(layers.MaxPooling2D(pool_size=(2,2),strides=(2,2)))\n",
        "\n",
        "  model.add(layers.ZeroPadding2D((1,1)))\n",
        "  model.add(layers.Convolution2D(512,(3,3),activation='relu'))\n",
        "  model.add(layers.ZeroPadding2D((1,1)))\n",
        "  model.add(layers.Convolution2D(512,(3,3),activation='relu'))\n",
        "  model.add(layers.ZeroPadding2D((1,1)))\n",
        "  model.add(layers.Convolution2D(512,(3,3),activation='relu'))\n",
        "  model.add(layers.MaxPooling2D(pool_size=(2,2),strides=(2,2)))\n",
        "\n",
        "  model.add(layers.ZeroPadding2D((1,1)))\n",
        "  model.add(layers.Convolution2D(512,(3,3),activation='relu'))\n",
        "  model.add(layers.ZeroPadding2D((1,1)))\n",
        "  model.add(layers.Convolution2D(512,(3,3),activation='relu'))\n",
        "  model.add(layers.ZeroPadding2D((1,1)))\n",
        "  model.add(layers.Convolution2D(512,(3,3),activation='relu'))\n",
        "  model.add(layers.MaxPooling2D(pool_size=(2,2),strides=(2,2)))\n",
        "\n",
        "  model.add(layers.Flatten())\n",
        "\n",
        "  model.add(layers.Dense(4096,activation='relu'))\n",
        "  model.add(layers.Dropout(0.5))\n",
        "\n",
        "  model.add(layers.Dense(4096,activation='relu'))\n",
        "  model.add(layers.Dropout(0.5))\n",
        "\n",
        "  model.add(layers.Dense(10,activation='softmax'))\n",
        "\n",
        "  return model"
      ]
    },
    {
      "cell_type": "code",
      "execution_count": null,
      "metadata": {
        "id": "b53CDKN4fbAl"
      },
      "outputs": [],
      "source": [
        "callbacks=[TensorBoard(log_dir='./logs')]"
      ]
    },
    {
      "cell_type": "code",
      "execution_count": null,
      "metadata": {
        "id": "M8p-mLiUfdPG"
      },
      "outputs": [],
      "source": [
        "model=VGGNet(input_shape=x_train.shape[1:],classes=10)"
      ]
    },
    {
      "cell_type": "code",
      "execution_count": null,
      "metadata": {
        "id": "De5dg8pEfhWO",
        "colab": {
          "base_uri": "https://localhost:8080/"
        },
        "outputId": "639c3a7a-6c73-4a97-d838-7ef0f8306a49"
      },
      "outputs": [
        {
          "output_type": "stream",
          "name": "stdout",
          "text": [
            "Epoch 1/20\n",
            " 85/313 [=======>......................] - ETA: 56:25 - loss: 2.3026 - accuracy: 0.0988"
          ]
        }
      ],
      "source": [
        "model.compile(loss='categorical_crossentropy',optimizer=optim,metrics=['accuracy'])\n",
        "model.fit(x_train,y_train,batch_size=BATCH_SIZE,epochs=EPOCHS,validation_split=VALIDATION_SPLIT,verbose=VERBOSE,callbacks=callbacks)\n",
        "score=model.evaluate(x_test,y_test,batch_size=BATCH_SIZE,verbose=VERBOSE)\n",
        "print('\\nScore:',score)"
      ]
    },
    {
      "cell_type": "code",
      "execution_count": null,
      "metadata": {
        "id": "AG_oyW21iruN"
      },
      "outputs": [],
      "source": [
        "model.summary()"
      ]
    }
  ],
  "metadata": {
    "colab": {
      "provenance": [],
      "gpuType": "V28",
      "authorship_tag": "ABX9TyOzg+b8Y9Cxn6CuYzMmWKJn",
      "include_colab_link": true
    },
    "kernelspec": {
      "display_name": "Python 3",
      "name": "python3"
    },
    "language_info": {
      "name": "python"
    },
    "accelerator": "TPU"
  },
  "nbformat": 4,
  "nbformat_minor": 0
}